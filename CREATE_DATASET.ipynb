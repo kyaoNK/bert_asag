{
  "cells": [
    {
      "cell_type": "markdown",
      "metadata": {
        "id": "view-in-github",
        "colab_type": "text"
      },
      "source": [
        "<a href=\"https://colab.research.google.com/github/kyaoNK/bert_nli/blob/main/CREATE_DATASET.ipynb\" target=\"_parent\"><img src=\"https://colab.research.google.com/assets/colab-badge.svg\" alt=\"Open In Colab\"/></a>"
      ]
    },
    {
      "cell_type": "markdown",
      "source": [
        "# Setup"
      ],
      "metadata": {
        "id": "lcjKLnstbX-S"
      }
    },
    {
      "cell_type": "code",
      "source": [
        "!sudo apt -y update\n",
        "# !sudo apt -y -q install libeigen3-dev libprotobuf-dev protobuf-c-compiler"
      ],
      "metadata": {
        "colab": {
          "base_uri": "https://localhost:8080/"
        },
        "id": "FL7ACaPZO9TQ",
        "outputId": "ae42a748-87f9-43e0-9e60-0f8fde84d690"
      },
      "execution_count": null,
      "outputs": [
        {
          "output_type": "stream",
          "name": "stdout",
          "text": [
            "Get:1 https://cloud.r-project.org/bin/linux/ubuntu bionic-cran40/ InRelease [3,626 B]\n",
            "Ign:2 https://developer.download.nvidia.com/compute/machine-learning/repos/ubuntu1804/x86_64  InRelease\n",
            "Hit:3 https://developer.download.nvidia.com/compute/cuda/repos/ubuntu1804/x86_64  InRelease\n",
            "Hit:4 https://developer.download.nvidia.com/compute/machine-learning/repos/ubuntu1804/x86_64  Release\n",
            "Get:5 http://security.ubuntu.com/ubuntu bionic-security InRelease [88.7 kB]\n",
            "Get:7 http://ppa.launchpad.net/c2d4u.team/c2d4u4.0+/ubuntu bionic InRelease [15.9 kB]\n",
            "Hit:8 http://archive.ubuntu.com/ubuntu bionic InRelease\n",
            "Get:9 http://archive.ubuntu.com/ubuntu bionic-updates InRelease [88.7 kB]\n",
            "Hit:10 http://ppa.launchpad.net/cran/libgit2/ubuntu bionic InRelease\n",
            "Hit:11 http://ppa.launchpad.net/deadsnakes/ppa/ubuntu bionic InRelease\n",
            "Get:12 http://archive.ubuntu.com/ubuntu bionic-backports InRelease [83.3 kB]\n",
            "Hit:13 http://ppa.launchpad.net/graphics-drivers/ppa/ubuntu bionic InRelease\n",
            "Get:14 http://ppa.launchpad.net/c2d4u.team/c2d4u4.0+/ubuntu bionic/main Sources [2,235 kB]\n",
            "Get:15 http://ppa.launchpad.net/c2d4u.team/c2d4u4.0+/ubuntu bionic/main amd64 Packages [1,143 kB]\n",
            "Fetched 3,659 kB in 5s (746 kB/s)\n",
            "Reading package lists... Done\n",
            "Building dependency tree       \n",
            "Reading state information... Done\n",
            "20 packages can be upgraded. Run 'apt list --upgradable' to see them.\n"
          ]
        }
      ]
    },
    {
      "cell_type": "code",
      "source": [
        "!pip install -qU pytorch-lightning lightning-bolts \n",
        "!pip install -qU torch\n",
        "!pip install -qU torchtext\n",
        "!pip install -qU torchvision\n",
        "!pip install -qU torchaudio\n",
        "!pip install -q   datasets\n",
        "!pip install -q   accelerate\n",
        "!pip install -q   ipadic\n",
        "!pip install -q   unidic-lite\n",
        "!pip install -qU transformers\n",
        "!pip install -q   sentencepiece\n",
        "# !pip install -qU sentence_transformers\n",
        "# !pip install -q   pyknp\n",
        "# !pip install -qU torch==1.7.1\n",
        "# !pip install -qU torchtext==0.8.0\n",
        "# !pip install -qU torchvision==0.8.2\n",
        "# !pip install -qU torchaudio==0.7.2\n",
        "# !pip install -q   transformers==4.4.2\n",
        "# !pip install -q   pytorch_ligtning==1.2.2"
      ],
      "metadata": {
        "id": "94DNh4kcqKkA",
        "colab": {
          "base_uri": "https://localhost:8080/"
        },
        "outputId": "fe6e5eef-9ee4-4ea3-9f2b-c35a6bad9aad"
      },
      "execution_count": null,
      "outputs": [
        {
          "output_type": "stream",
          "name": "stdout",
          "text": [
            "\u001b[K     |████████████████████████████████| 800 kB 18.7 MB/s \n",
            "\u001b[K     |████████████████████████████████| 329 kB 51.7 MB/s \n",
            "\u001b[K     |████████████████████████████████| 125 kB 64.8 MB/s \n",
            "\u001b[K     |████████████████████████████████| 512 kB 68.5 MB/s \n",
            "\u001b[K     |██████████████████████████████  | 834.1 MB 1.2 MB/s eta 0:00:45tcmalloc: large alloc 1147494400 bytes == 0x395f2000 @  0x7f4d8d23b615 0x5d6f4c 0x51edd1 0x51ef5b 0x4f750a 0x4997a2 0x4fd8b5 0x4997c7 0x4fd8b5 0x49abe4 0x4f5fe9 0x55e146 0x4f5fe9 0x55e146 0x4f5fe9 0x55e146 0x5d8868 0x5da092 0x587116 0x5d8d8c 0x55dc1e 0x55cd91 0x5d8941 0x49abe4 0x55cd91 0x5d8941 0x4990ca 0x5d8868 0x4997a2 0x4fd8b5 0x49abe4\n",
            "\u001b[K     |████████████████████████████████| 887.4 MB 1.8 kB/s \n",
            "\u001b[K     |████████████████████████████████| 557.1 MB 12 kB/s \n",
            "\u001b[K     |████████████████████████████████| 21.0 MB 1.2 MB/s \n",
            "\u001b[K     |████████████████████████████████| 849 kB 57.7 MB/s \n",
            "\u001b[K     |████████████████████████████████| 317.1 MB 31 kB/s \n",
            "\u001b[31mERROR: pip's dependency resolver does not currently take into account all the packages that are installed. This behaviour is the source of the following dependency conflicts.\n",
            "torchvision 0.14.0+cu116 requires torch==1.13.0, but you have torch 1.13.1 which is incompatible.\n",
            "torchtext 0.14.0 requires torch==1.13.0, but you have torch 1.13.1 which is incompatible.\n",
            "torchaudio 0.13.0+cu116 requires torch==1.13.0, but you have torch 1.13.1 which is incompatible.\u001b[0m\n",
            "\u001b[K     |████████████████████████████████| 2.0 MB 30.0 MB/s \n",
            "\u001b[K     |████████████████████████████████| 24.2 MB 1.2 MB/s \n",
            "\u001b[K     |████████████████████████████████| 4.2 MB 37.3 MB/s \n",
            "\u001b[K     |████████████████████████████████| 452 kB 35.9 MB/s \n",
            "\u001b[K     |████████████████████████████████| 132 kB 80.3 MB/s \n",
            "\u001b[K     |████████████████████████████████| 212 kB 54.8 MB/s \n",
            "\u001b[K     |████████████████████████████████| 182 kB 64.4 MB/s \n",
            "\u001b[K     |████████████████████████████████| 127 kB 81.0 MB/s \n",
            "\u001b[K     |████████████████████████████████| 191 kB 37.1 MB/s \n",
            "\u001b[K     |████████████████████████████████| 13.4 MB 33.9 MB/s \n",
            "\u001b[?25h  Building wheel for ipadic (setup.py) ... \u001b[?25l\u001b[?25hdone\n",
            "\u001b[K     |████████████████████████████████| 47.4 MB 104 kB/s \n",
            "\u001b[?25h  Building wheel for unidic-lite (setup.py) ... \u001b[?25l\u001b[?25hdone\n",
            "\u001b[K     |████████████████████████████████| 5.8 MB 37.8 MB/s \n",
            "\u001b[K     |████████████████████████████████| 7.6 MB 64.5 MB/s \n",
            "\u001b[K     |████████████████████████████████| 1.3 MB 33.8 MB/s \n",
            "\u001b[?25h"
          ]
        }
      ]
    },
    {
      "cell_type": "code",
      "source": [
        "import sys\n",
        "sys.path.append('/content/drive/MyDrive/Colab Notebooks/my-modules')"
      ],
      "metadata": {
        "id": "0aalN-yivNWu"
      },
      "execution_count": null,
      "outputs": []
    },
    {
      "cell_type": "markdown",
      "source": [
        "### Juman++"
      ],
      "metadata": {
        "id": "QKSKoUhqMwxo"
      }
    },
    {
      "cell_type": "code",
      "source": [
        "# %cd /content/drive/MyDrive/Colab Notebooks/nlp-resource/JUMANPP/jumanpp-2.0.0-rc3\n",
        "# !mkdir build\n",
        "# %cd build\n",
        "# !rm -f CMakeCache.txt\n",
        "# !cmake .. -DCMAKE_BUILD_TYPE=Release -DCMAKE_INSTALL_PREFIX=/usr/local\n",
        "# !make\n",
        "# !sudo make install\n",
        "# !cd /content"
      ],
      "metadata": {
        "id": "7fhYfPP_SLSF"
      },
      "execution_count": null,
      "outputs": []
    },
    {
      "cell_type": "code",
      "source": [
        "# from pyknp import Juman\n",
        "# jumanpp = Juman()   # default is JUMAN++: Juman(jumanpp=True). if you use JUMAN, use Juman(jumanpp=False)\n",
        "# result = jumanpp.analysis(\"下鴨神社の参道は暗かった。\")\n",
        "# for mrph in result.mrph_list(): # 各形態素にアクセス\n",
        "#     print(\"見出し:%s, 読み:%s, 原形:%s, 品詞:%s, 品詞細分類:%s, 活用型:%s, 活用形:%s, 意味情報:%s, 代表表記:%s\" \\\n",
        "#             % (mrph.midasi, mrph.yomi, mrph.genkei, mrph.hinsi, mrph.bunrui, mrph.katuyou1, mrph.katuyou2, mrph.imis, mrph.repname))"
      ],
      "metadata": {
        "id": "0J3d2HSnQReP"
      },
      "execution_count": null,
      "outputs": []
    },
    {
      "cell_type": "markdown",
      "source": [
        "# Datasets"
      ],
      "metadata": {
        "id": "269BexeibloO"
      }
    },
    {
      "cell_type": "code",
      "source": [
        "import csv\n",
        "\n",
        "def tsv2csv (tsv_filepath) :\n",
        "    with open(tsv_filepath, 'r') as tsv_f:\n",
        "        tsv = csv.reader(tsv_f, delimiter = '\\t')\n",
        "        csv_filepath = tsv_filepath[:-4] + '.csv'\n",
        "        with open(csv_filepath, 'w', newline='\\n') as csv_f:\n",
        "            writer = csv.writer(csv_f, delimiter=\",\")\n",
        "            for row in tsv:\n",
        "                writer.writerow(row)\n",
        "            return csv_filepath"
      ],
      "metadata": {
        "id": "2FB6B5kgdfO9"
      },
      "execution_count": null,
      "outputs": []
    },
    {
      "cell_type": "code",
      "source": [
        "#@title JGLUE\n",
        "import pandas as pd\n",
        "\n",
        "JGLUE_DIRPATH = '/content/drive/MyDrive/Colab Notebooks/SeniorThesis/DATASETS/JGLUE/datasets/jnli-v1.1/'\n",
        "JGLUE_FILENAME = { 'train' : 'train-v1.1.json' , 'valid' : 'valid-v1.1.json' }\n",
        "JGLUE_COLS = [ 'sentence1' , 'sentence2' , 'label' ]\n",
        "COLUMNS = [ 'sentenceA' , 'sentenceB' , 'label' ]\n",
        "\n",
        "jglue_train_df = pd.read_json( JGLUE_DIRPATH + JGLUE_FILENAME['train'] , lines=True , encoding='utf-8' )\n",
        "jglue_train_df = jglue_train_df.loc[ : , JGLUE_COLS ]\n",
        "jglue_train_df.columns = COLUMNS\n",
        "jglue_valid_df = pd.read_json( JGLUE_DIRPATH + JGLUE_FILENAME['valid'] , lines=True , encoding='utf-8' )\n",
        "jglue_valid_df = jglue_valid_df.loc[ : , JGLUE_COLS ]\n",
        "jglue_valid_df.columns = COLUMNS\n",
        "\n",
        "# jglue_train_df"
      ],
      "metadata": {
        "id": "EI12TCvdg3xD"
      },
      "execution_count": null,
      "outputs": []
    },
    {
      "cell_type": "code",
      "source": [
        "#@title JSICK\n",
        "import pandas as pd\n",
        "\n",
        "JSICK_DIRPATH = '/content/drive/MyDrive/Colab Notebooks/SeniorThesis/DATASETS/JSICK/jsick/'\n",
        "JSICK_FILENAME = { 'train' : 'train.tsv' , 'valid' : 'test.tsv' }\n",
        "JSICK_COLS = [ 'sentence_A_Ja' , 'sentence_B_Ja' , 'entailment_label_Ja' ]\n",
        "COLUMNS = [ 'sentenceA' , 'sentenceB' , 'label' ]\n",
        "\n",
        "jsick_train_filepath = tsv2csv(JSICK_DIRPATH + JSICK_FILENAME['train'])\n",
        "jsick_valid_filepath = tsv2csv(JSICK_DIRPATH + JSICK_FILENAME['valid'])\n",
        "\n",
        "jsick_train_df = pd.read_csv( jsick_train_filepath , encoding='utf-8' , header=0 )\n",
        "jsick_train_df = jsick_train_df.loc[ : , JSICK_COLS ]\n",
        "jsick_train_df.columns = COLUMNS\n",
        "jsick_valid_df = pd.read_csv( jsick_valid_filepath , encoding='utf-8' , header=0 )\n",
        "jsick_valid_df = jsick_valid_df.loc[ : , JSICK_COLS ]\n",
        "jsick_valid_df.columns = COLUMNS\n",
        "\n",
        "jsick_train_df.index = len(jglue_train_df.index) + jsick_train_df.index\n",
        "jsick_valid_df.index = len(jglue_valid_df.index) + jsick_valid_df.index\n",
        "\n",
        "# jsick_train_df"
      ],
      "metadata": {
        "id": "Cka2NxqPjVyZ"
      },
      "execution_count": null,
      "outputs": []
    }
  ],
  "metadata": {
    "colab": {
      "provenance": [],
      "collapsed_sections": [
        "QKSKoUhqMwxo",
        "tzN6R-xXj7Hv"
      ],
      "mount_file_id": "18EaLGiSBQG5THtFK-28_KIaJGm3JvE-V",
      "authorship_tag": "ABX9TyMvqsVDZnHpnDwsvdAqMVgJ",
      "include_colab_link": true
    },
    "kernelspec": {
      "display_name": "Python 3",
      "name": "python3"
    },
    "language_info": {
      "name": "python"
    },
    "accelerator": "GPU",
    "gpuClass": "standard"
  },
  "nbformat": 4,
  "nbformat_minor": 0
}